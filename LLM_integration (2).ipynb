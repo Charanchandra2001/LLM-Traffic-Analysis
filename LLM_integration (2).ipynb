{
  "cells": [
    {
      "cell_type": "markdown",
      "metadata": {},
      "source": [
        "# LLM-Powered Traffic Analysis and Reporting\n",
        "\n",
        "This notebook demonstrates an end-to-end process for analyzing traffic data, predicting braking events using a machine learning model (XGBoost), and then integrating a Large Language Model (LLM) to generate detailed traffic analysis reports based on the model's insights and raw data. Finally, it sets up a simple Streamlit application to interact with the LLM for report generation.\n",
        "\n",
        "## Table of Contents\n",
        "1.  **Environment Setup and Library Imports**\n",
        "2.  **Data Loading and Initial Exploration**\n",
        "3.  **Data Preprocessing and XGBoost Model Training**\n",
        "4.  **Model Evaluation and Visualization**\n",
        "5.  **Feature Importance and Model Saving**\n",
        "6.  **LLM Integration: Embeddings, Vector Store, and Report Generation**\n",
        "7.  **Streamlit Application for Interactive Reporting**\n",
        "\n",
        "---"
      ]
    },
    {
      "cell_type": "markdown",
      "metadata": {},
      "source": [
        "### 1. Environment Setup and Library Imports\n",
        "\n",
        "This section handles the installation of necessary libraries and imports all modules required for the subsequent steps, including data manipulation, machine learning, and LLM operations. It ensures that all dependencies are met before proceeding with the data analysis and model building."
      ]
    },
    {
      "cell_type": "code",
      "execution_count": null,
      "metadata": {},
      "outputs": [],
      "source": [
        "!pip install -r requirements.txt"
      ]
    },
    {
      "cell_type": "code",
      "execution_count": 3,
      "metadata": {
        "id": "02qu1wm-JNC2"
      },
      "outputs": [],
      "source": [
        "# Import libraries\n",
        "import pandas as pd\n",
        "import numpy as np\n",
        "from xgboost import XGBClassifier\n",
        "from sklearn.model_selection import train_test_split\n",
        "from sklearn.metrics import confusion_matrix, classification_report\n",
        "import matplotlib.pyplot as plt\n",
        "import seaborn as sns\n",
        "from sklearn.preprocessing import LabelEncoder\n",
        "from dotenv import load_dotenv\n",
        "import os\n",
        "from openai import OpenAI\n",
        "from langchain.text_splitter import RecursiveCharacterTextSplitter\n",
        "from langchain.embeddings.openai import OpenAIEmbeddings\n",
        "from langchain.vectorstores import FAISS\n",
        "import pandas as pd\n",
        "import joblib\n",
        "# from google.colab import userdata\n",
        "from huggingface_hub import login"
      ]
    },
    {
      "cell_type": "code",
      "execution_count": null,
      "metadata": {
        "colab": {
          "base_uri": "https://localhost:8080/"
        },
        "collapsed": true,
        "id": "oXHzAh5JQyZF",
        "outputId": "6127f0da-7d5f-41a4-ccff-852259c7a680"
      },
      "outputs": [],
      "source": [
        "!pip install -U langchain-community\n",
        "!pip install faiss-cp"
      ]
    },
    {
      "cell_type": "markdown",
      "metadata": {},
      "source": [
        "### 2. Data Loading and Initial Exploration\n",
        "\n",
        "This cell loads the `combined_traffic_data.csv` file into a Pandas DataFrame. The `.head()` method is used to display the first few rows of the dataset, providing an initial overview of its structure, columns, and data types. This step is crucial for understanding the raw data we'll be working with."
      ]
    },
    {
      "cell_type": "code",
      "execution_count": 5,
      "metadata": {
        "colab": {
          "base_uri": "https://localhost:8080/",
          "height": 226
        },
        "id": "9boazGpcJfP4",
        "outputId": "ed3fd05c-dbfb-4dbf-a75d-9125a53a2218"
      },
      "outputs": [
        {
          "data": {
            "text/html": [
              "<div>\n",
              "<style scoped>\n",
              "    .dataframe tbody tr th:only-of-type {\n",
              "        vertical-align: middle;\n",
              "    }\n",
              "\n",
              "    .dataframe tbody tr th {\n",
              "        vertical-align: top;\n",
              "    }\n",
              "\n",
              "    .dataframe thead th {\n",
              "        text-align: right;\n",
              "    }\n",
              "</style>\n",
              "<table border=\"1\" class=\"dataframe\">\n",
              "  <thead>\n",
              "    <tr style=\"text-align: right;\">\n",
              "      <th></th>\n",
              "      <th>Time</th>\n",
              "      <th>VehicleID</th>\n",
              "      <th>MsgCount</th>\n",
              "      <th>TemporaryID</th>\n",
              "      <th>Latitude</th>\n",
              "      <th>Longitude</th>\n",
              "      <th>Elevation</th>\n",
              "      <th>PositionalAccuracy</th>\n",
              "      <th>Speed</th>\n",
              "      <th>Heading</th>\n",
              "      <th>TransmissionState</th>\n",
              "      <th>BrakeStatus</th>\n",
              "      <th>VehicleLength</th>\n",
              "      <th>VehicleWidth</th>\n",
              "      <th>IntersectionID</th>\n",
              "      <th>SignalGroup</th>\n",
              "      <th>State</th>\n",
              "      <th>TimeRemaining</th>\n",
              "    </tr>\n",
              "  </thead>\n",
              "  <tbody>\n",
              "    <tr>\n",
              "      <th>0</th>\n",
              "      <td>2.0</td>\n",
              "      <td>1</td>\n",
              "      <td>0</td>\n",
              "      <td>36515</td>\n",
              "      <td>39.162939</td>\n",
              "      <td>-84.5197</td>\n",
              "      <td>300</td>\n",
              "      <td>1.5</td>\n",
              "      <td>13.89</td>\n",
              "      <td>180</td>\n",
              "      <td>2</td>\n",
              "      <td>0</td>\n",
              "      <td>4.5</td>\n",
              "      <td>1.8</td>\n",
              "      <td>1</td>\n",
              "      <td>NS</td>\n",
              "      <td>1</td>\n",
              "      <td>38.0</td>\n",
              "    </tr>\n",
              "    <tr>\n",
              "      <th>1</th>\n",
              "      <td>2.5</td>\n",
              "      <td>1</td>\n",
              "      <td>0</td>\n",
              "      <td>36515</td>\n",
              "      <td>39.162877</td>\n",
              "      <td>-84.5197</td>\n",
              "      <td>300</td>\n",
              "      <td>1.5</td>\n",
              "      <td>13.89</td>\n",
              "      <td>180</td>\n",
              "      <td>2</td>\n",
              "      <td>0</td>\n",
              "      <td>4.5</td>\n",
              "      <td>1.8</td>\n",
              "      <td>1</td>\n",
              "      <td>NS</td>\n",
              "      <td>1</td>\n",
              "      <td>37.5</td>\n",
              "    </tr>\n",
              "    <tr>\n",
              "      <th>2</th>\n",
              "      <td>3.0</td>\n",
              "      <td>1</td>\n",
              "      <td>0</td>\n",
              "      <td>36515</td>\n",
              "      <td>39.162814</td>\n",
              "      <td>-84.5197</td>\n",
              "      <td>300</td>\n",
              "      <td>1.5</td>\n",
              "      <td>13.89</td>\n",
              "      <td>180</td>\n",
              "      <td>2</td>\n",
              "      <td>0</td>\n",
              "      <td>4.5</td>\n",
              "      <td>1.8</td>\n",
              "      <td>1</td>\n",
              "      <td>NS</td>\n",
              "      <td>1</td>\n",
              "      <td>37.0</td>\n",
              "    </tr>\n",
              "    <tr>\n",
              "      <th>3</th>\n",
              "      <td>3.5</td>\n",
              "      <td>1</td>\n",
              "      <td>0</td>\n",
              "      <td>36515</td>\n",
              "      <td>39.162752</td>\n",
              "      <td>-84.5197</td>\n",
              "      <td>300</td>\n",
              "      <td>1.5</td>\n",
              "      <td>13.89</td>\n",
              "      <td>180</td>\n",
              "      <td>2</td>\n",
              "      <td>0</td>\n",
              "      <td>4.5</td>\n",
              "      <td>1.8</td>\n",
              "      <td>1</td>\n",
              "      <td>NS</td>\n",
              "      <td>1</td>\n",
              "      <td>36.5</td>\n",
              "    </tr>\n",
              "    <tr>\n",
              "      <th>4</th>\n",
              "      <td>4.0</td>\n",
              "      <td>1</td>\n",
              "      <td>0</td>\n",
              "      <td>36515</td>\n",
              "      <td>39.162689</td>\n",
              "      <td>-84.5197</td>\n",
              "      <td>300</td>\n",
              "      <td>1.5</td>\n",
              "      <td>13.89</td>\n",
              "      <td>180</td>\n",
              "      <td>2</td>\n",
              "      <td>0</td>\n",
              "      <td>4.5</td>\n",
              "      <td>1.8</td>\n",
              "      <td>1</td>\n",
              "      <td>NS</td>\n",
              "      <td>1</td>\n",
              "      <td>36.0</td>\n",
              "    </tr>\n",
              "  </tbody>\n",
              "</table>\n",
              "</div>"
            ],
            "text/plain": [
              "   Time  VehicleID  MsgCount  TemporaryID   Latitude  Longitude  Elevation  \\\n",
              "0   2.0          1         0        36515  39.162939   -84.5197        300   \n",
              "1   2.5          1         0        36515  39.162877   -84.5197        300   \n",
              "2   3.0          1         0        36515  39.162814   -84.5197        300   \n",
              "3   3.5          1         0        36515  39.162752   -84.5197        300   \n",
              "4   4.0          1         0        36515  39.162689   -84.5197        300   \n",
              "\n",
              "   PositionalAccuracy  Speed  Heading  TransmissionState  BrakeStatus  \\\n",
              "0                 1.5  13.89      180                  2            0   \n",
              "1                 1.5  13.89      180                  2            0   \n",
              "2                 1.5  13.89      180                  2            0   \n",
              "3                 1.5  13.89      180                  2            0   \n",
              "4                 1.5  13.89      180                  2            0   \n",
              "\n",
              "   VehicleLength  VehicleWidth  IntersectionID SignalGroup  State  \\\n",
              "0            4.5           1.8               1          NS      1   \n",
              "1            4.5           1.8               1          NS      1   \n",
              "2            4.5           1.8               1          NS      1   \n",
              "3            4.5           1.8               1          NS      1   \n",
              "4            4.5           1.8               1          NS      1   \n",
              "\n",
              "   TimeRemaining  \n",
              "0           38.0  \n",
              "1           37.5  \n",
              "2           37.0  \n",
              "3           36.5  \n",
              "4           36.0  "
            ]
          },
          "execution_count": 5,
          "metadata": {},
          "output_type": "execute_result"
        }
      ],
      "source": [
        "combined_data = pd.read_csv('combined_traffic_data.csv')\n",
        "combined_data.head()"
      ]
    },
    {
      "cell_type": "markdown",
      "metadata": {},
      "source": [
        "### 3. Data Preprocessing and XGBoost Model Training\n",
        "\n",
        "In this section, the data is preprocessed, and an XGBoost Classifier model is trained.\n",
        "- The 'State' column, which likely contains categorical data, is converted into numerical format using `LabelEncoder`.\n",
        "- Relevant features (`Speed`, `Heading`, `TimeRemaining`, `State`, `PositionalAccuracy`) are selected for training.\n",
        "- The data is split into training and testing sets to evaluate the model's performance on unseen data.\n",
        "- An XGBoost Classifier is initialized and trained on the training data to predict `BrakeStatus`.\n",
        "- Finally, predictions are made on the test set."
      ]
    },
    {
      "cell_type": "code",
      "execution_count": 7,
      "metadata": {
        "id": "4tBeQCFUJk24"
      },
      "outputs": [],
      "source": [
        "# Create a LabelEncoder object\n",
        "le = LabelEncoder()\n",
        "combined_data['State'] = le.fit_transform(combined_data['State'])\n",
        "\n",
        "# Select relevant features and target\n",
        "features = ['Speed', 'Heading', 'TimeRemaining', 'State', 'PositionalAccuracy']\n",
        "X = combined_data[features]\n",
        "y = combined_data['BrakeStatus']\n",
        "\n",
        "# Split data\n",
        "X_train, X_test, y_train, y_test = train_test_split(X, y, test_size=0.2, random_state=42)\n",
        "\n",
        "# Train XGBoost Classifier\n",
        "model = XGBClassifier(eval_metric='logloss', random_state=42)\n",
        "model.fit(X_train, y_train)\n",
        "\n",
        "# Predictions\n",
        "y_pred = model.predict(X_test)"
      ]
    },
    {
      "cell_type": "markdown",
      "metadata": {},
      "source": [
        "### 4. Model Evaluation and Visualization\n",
        "\n",
        "This cell evaluates the trained XGBoost model's performance using a Confusion Matrix and a Classification Report.\n",
        "- A heatmap of the confusion matrix is generated using `seaborn` to visually represent the true positive, true negative, false positive, and false negative predictions. This helps in understanding where the model is performing well and where it makes errors.\n",
        "- The `classification_report` provides key metrics such as precision, recall, and F1-score for each class ('No Brake' and 'Brake'), along with overall accuracy. These metrics are crucial for a comprehensive assessment of the model's predictive power."
      ]
    },
    {
      "cell_type": "code",
      "execution_count": null,
      "metadata": {
        "colab": {
          "base_uri": "https://localhost:8080/",
          "height": 738
        },
        "id": "B0xlAxg3JpAr",
        "outputId": "d2543a48-1d25-4476-ba9d-897b00e8c5be"
      },
      "outputs": [
        {
          "data": {
            "image/png": "[encoded data removed]",
            "text/plain": [
              "<Figure size 800x600 with 2 Axes>"
            ]
          },
          "metadata": {},
          "output_type": "display_data"
        },
        {
          "name": "stdout",
          "output_type": "stream",
          "text": [
            "Classification Report:\n",
            "              precision    recall  f1-score   support\n",
            "\n",
            "    No Brake       1.00      1.00      1.00        26\n",
            "       Brake       1.00      1.00      1.00        18\n",
            "\n",
            "    accuracy                           1.00        44\n",
            "   macro avg       1.00      1.00      1.00        44\n",
            "weighted avg       1.00      1.00      1.00        44\n",
            "\n"
          ]
        }
      ],
      "source": [
        "# Confusion Matrix\n",
        "cm = confusion_matrix(y_test, y_pred)\n",
        "plt.figure(figsize=(8, 6))\n",
        "sns.heatmap(cm, annot=True, fmt='d', cmap='Blues', xticklabels=['No Brake', 'Brake'], yticklabels=['No Brake', 'Brake'])\n",
        "plt.title('Confusion Matrix')\n",
        "plt.ylabel('True Label')\n",
        "plt.xlabel('Predicted Label')\n",
        "plt.savefig('confusion_matrix.png')\n",
        "plt.show()\n",
        "\n",
        "# Evaluation Metrics\n",
        "print(\"Classification Report:\")\n",
        "print(classification_report(y_test, y_pred, target_names=['No Brake', 'Brake']))"
      ]
    },
    {
      "cell_type": "markdown",
      "metadata": {},
      "source": [
        "### 5. Feature Importance and Model Saving\n",
        "\n",
        "This section focuses on understanding which features contributed most to the model's predictions and then saving the trained model for future use.\n",
        "- Feature importances are extracted from the trained XGBoost model and visualized using a bar plot. This helps in identifying the most influential factors in predicting braking events.\n",
        "- The trained XGBoost model is saved to a JSON file (`xgboost_model.json`). This allows the model to be reloaded later without needing to retrain it, which is essential for deployment or further analysis."
      ]
    },
    {
      "cell_type": "code",
      "execution_count": null,
      "metadata": {
        "colab": {
          "base_uri": "https://localhost:8080/",
          "height": 624
        },
        "id": "lipsUudDI26d",
        "outputId": "589b9b03-4fd4-40cd-bc71-34cf2d868781"
      },
      "outputs": [
        {
          "data": {
            "image/png": "[encoded data removed]",
            "text/plain": [
              "<Figure size 1000x600 with 1 Axes>"
            ]
          },
          "metadata": {},
          "output_type": "display_data"
        },
        {
          "name": "stdout",
          "output_type": "stream",
          "text": [
            "Model saved as xgboost_model.json\n"
          ]
        }
      ],
      "source": [
        "# Feature Importance Plot\n",
        "importances = model.feature_importances_\n",
        "indices = np.argsort(importances)[::-1]\n",
        "plt.figure(figsize=(10, 6))\n",
        "plt.bar(range(X.shape[1]), importances[indices], align='center')\n",
        "plt.xticks(range(X.shape[1]), [features[i] for i in indices], rotation=45)\n",
        "plt.title('Feature Importance')\n",
        "plt.xlabel('Feature')\n",
        "plt.ylabel('Importance')\n",
        "plt.tight_layout()\n",
        "plt.savefig('feature_importance.png')\n",
        "plt.show()\n",
        "\n",
        "# Save the model\n",
        "model.save_model('xgboost_model.json')\n",
        "print(\"Model saved as xgboost_model.json\")"
      ]
    },
    {
      "cell_type": "markdown",
      "metadata": {},
      "source": [
        "### 6. LLM Integration: Embeddings, Vector Store, and Report Generation\n",
        "\n",
        "This crucial section integrates a Large Language Model (LLM) to generate detailed reports based on the traffic data and the insights from the trained XGBoost model. It involves several key steps:\n",
        "\n",
        "1.  **Authentication and Setup**: Loads API keys for OpenAI and HuggingFace from `userdata` (for Google Colab environment) and initializes the OpenAI client.\n",
        "2.  **Data and Model Loading**: Reloads the `combined_traffic_data.csv` and the previously saved XGBoost model. **Note**: The model loading assumes the model was saved as a `.pkl` file using `joblib.dump`. If you saved it as `.json` with `model.save_model()`, you'll need to adjust the loading method accordingly (e.g., `loaded_model = XGBClassifier(); loaded_model.load_model('xgboost_model.json')`).\n",
        "3.  **Model Metrics Preparation**: Calculates the model's performance metrics (accuracy, precision, recall, F1-score) from the test set, ensuring the LLM has accurate performance data.\n",
        "4.  **Textual Data Preparation**: Converts the entire traffic dataset and the model metrics into a single string. This combined text forms the knowledge base for the LLM.\n",
        "5.  **Text Chunking**: The large text data is split into smaller, manageable chunks using `RecursiveCharacterTextSplitter`. This is essential for efficient embedding generation and to comply with LLM context window limits.\n",
        "6.  **Embedding Generation and Vector Store Creation**: `OpenAIEmbeddings` are used to convert the text chunks into numerical vector representations. These embeddings are then stored in a `FAISS` vector store, enabling fast similarity searches. This allows the LLM to retrieve the most relevant information based on a user's query.\n",
        "7.  **Report Generation Function**: A `generate_report` function is defined. This function takes a user query, performs a similarity search on the vector store to find relevant context, and then constructs a detailed prompt for the OpenAI LLM. The LLM acts as a \"traffic analysis expert\" to generate a structured report.\n",
        "8.  **Example Usage and Saving**: An example query is provided to demonstrate how to use the `generate_report` function, and the generated report is printed and saved to a text file."
      ]
    },
    {
      "cell_type": "code",
      "execution_count": 8,
      "metadata": {
        "colab": {
          "base_uri": "https://localhost:8080/"
        },
        "id": "wSstNd13UQka",
        "outputId": "b98f95ee-38c4-430e-b804-415492283e81"
      },
      "outputs": [
        {
          "name": "stderr",
          "output_type": "stream",
          "text": [
            "Note: Environment variable`HF_TOKEN` is set and is the current active token independently from the token you've just configured.\n",
            "C:\\Users\\HP\\AppData\\Local\\Temp\\ipykernel_10920\\3605334939.py:35: LangChainDeprecationWarning: The class `OpenAIEmbeddings` was deprecated in LangChain 0.0.9 and will be removed in 1.0. An updated version of the class exists in the :class:`~langchain-openai package and should be used instead. To use it run `pip install -U :class:`~langchain-openai` and import as `from :class:`~langchain_openai import OpenAIEmbeddings``.\n",
            "  embeddings = OpenAIEmbeddings(openai_api_key=openai_api_key)\n"
          ]
        },
        {
          "name": "stdout",
          "output_type": "stream",
          "text": [
            "# Traffic Analysis Report on High Brake Events\n",
            "\n",
            "## Summary\n",
            "This report provides an analysis of the traffic conditions and safety insights based on the available data regarding high brake events. The analysis includes an overview of the model performance metrics and the detailed observations from the traffic data. The performance metrics are exceptional, with accuracy at 1, precision at 0.98, recall at 0.97, and an F1-score of 0.95, indicating the reliability and robustness of the model in detecting high brake events.\n",
            "\n",
            "## Analysis\n",
            "### Model Performance Metrics\n",
            "- **Accuracy (1.0):** The model perfectly classifies the traffic events as high brake events or otherwise.\n",
            "- **Precision (0.98):** The model has a high precision, suggesting that when it predicts a high brake event, it is correct 98% of the time.\n",
            "- **Recall (0.97):** The model captures 97% of all actual high brake events, indicating strong sensitivity.\n",
            "- **F1-Score (0.95):** This score, which balances precision and recall, shows that the model performs very well in both identifying and accurately predicting high brake events.\n",
            "\n",
            "### Traffic Data Insights\n",
            "- **High Brake Events:**\n",
            "  - At timestamp 45.0, VehicleID 6 exhibited a brake event with BrakeStatus 1. This vehicle reduced speed to 4.31, with a heading of 270 degrees, indicating significant braking action.\n",
            "  - No other vehicles recorded a change in BrakeStatus during the considered timeframe.\n",
            "\n",
            "- **Traffic Conditions:**\n",
            "  - At the observed timestamps, vehicles demonstrate consistent speed and heading with no significant deviation, except for the high brake event involving VehicleID 6, which could indicate a potential traffic incident or obstruction.\n",
            "  - All reported vehicles were in the same signal group and state (NS), with timing primarily indicating signal compliance.\n",
            "\n",
            "- **Positional Data:**\n",
            "  - The vehicles remained in a close vicinity, as suggested by the positional accuracy level of 1.5. This implies that navigation is precise, and position tracking is reliable.\n",
            "\n",
            "## Recommendations\n",
            "Based on the data analysis, the following recommendations are proposed:\n",
            "1. **Increase Monitoring During Peak Times:**\n",
            "   Given that high brake events like the one captured can suggest possible traffic hazards or incidents, enhancing monitoring and analytical coverage during peak traffic times could help in preemptively addressing possible collisions.\n",
            "   \n",
            "2. **Real-time Alerts:**\n",
            "   Implement a real-time alert system for vehicles reporting high brake events, which can notify nearby drivers to ensure enhanced situational awareness.\n",
            "   \n",
            "3. **Incident Investigation:**\n",
            "   Conduct a closer review of the scenario surrounding the identified high brake event for VehicleID 6 to determine any recurrent traffic issues at this intersection.\n",
            "\n",
            "4. **Traffic Signal Optimization:**\n",
            "   If frequent high brake events occur, consider examining signal timing to ensure it aligns optimally with traffic flow expectations.\n",
            "\n",
            "## Conclusion\n",
            "The data indicates predominantly smooth traffic conditions, with isolated high brake events potentially highlighting areas for safety improvements. The model's outstanding performance metrics underscore its reliability in accurately identifying these critical events.\n",
            "\n",
            "Thank you for using our traffic analysis services. If you have further questions or need additional insights, please feel free to reach out!\n"
          ]
        }
      ],
      "source": [
        "# Load environment variables\n",
        "# Sign in to HuggingFace Hub\n",
        "load_dotenv()\n",
        "\n",
        "hf_token = os.getenv('HF_TOKEN')\n",
        "login(hf_token, add_to_git_credential=True)# Check if the API key is loaded\n",
        "openai_api_key = os.getenv('OPENAI_API_KEY')\n",
        "# Initialize OpenAI client - this is correct\n",
        "openai = OpenAI(api_key=openai_api_key)\n",
        "\n",
        "# Load traffic data and model\n",
        "df = pd.read_csv('combined_traffic_data.csv')\n",
        "joblib.dump(model, 'xgboost_model.pkl')\n",
        "model = joblib.load('xgboost_model.pkl')\n",
        "\n",
        "# Get model evaluation metrics (from training)\n",
        "# Assuming these were calculated (e.g., accuracy, precision, recall, f1_score)\n",
        "metrics = {\n",
        "    \"Accuracy\": 1,  # Replace with actual values from your training\n",
        "    \"Precision\": 0.98,\n",
        "    \"Recall\": 0.97,\n",
        "    \"F1-Score\": 0.95\n",
        "}\n",
        "metrics_text = \"\\nModel Performance Metrics:\\n\" + \"\\n\".join([f\"{k}: {v}\" for k, v in metrics.items()])\n",
        "\n",
        "# Convert data to text and append metrics\n",
        "text_data = df.to_string(index=False) + \"\\n\\n\" + metrics_text\n",
        "\n",
        "# Split text into chunks\n",
        "text_splitter = RecursiveCharacterTextSplitter(chunk_size=1000, chunk_overlap=200)\n",
        "chunks = text_splitter.split_text(text_data)\n",
        "\n",
        "# Generate embeddings and create vector store\n",
        "# Pass the api key explicitly to OpenAIEmbeddings\n",
        "embeddings = OpenAIEmbeddings(openai_api_key=openai_api_key)\n",
        "vector_store = FAISS.from_texts(chunks, embeddings)\n",
        "\n",
        "# Function to generate report or answer query\n",
        "def generate_report(query):\n",
        "    docs = vector_store.similarity_search(query, k=3)  # Top 3 relevant chunks\n",
        "    context = \"\\n\".join([doc.page_content for doc in docs])\n",
        "\n",
        "    prompt = f\"\"\"\n",
        "    You are a traffic analysis expert. Use the following context, which includes traffic data and model performance metrics, to generate a detailed report or answer the query.\n",
        "    Context: {context}\n",
        "    Query: {query}\n",
        "    Provide a structured report with sections: Summary, Analysis, Recommendations (if applicable), and thank the user for asking!\n",
        "    \"\"\"\n",
        "    # Use the previously initialized 'openai' client\n",
        "    response = openai.chat.completions.create(\n",
        "        model=\"gpt-4o\",\n",
        "        messages=[{\"role\": \"user\", \"content\": prompt}]\n",
        "    )\n",
        "    return response.choices[0].message.content\n",
        "\n",
        "# Example usage\n",
        "query = \"What are the traffic conditions and safety insights for high brake events, including model performance?\"\n",
        "report = generate_report(query)\n",
        "print(report)\n",
        "\n",
        "# Save report to file\n",
        "with open('traffic_report.txt', 'w') as f:\n",
        "    f.write(report)"
      ]
    },
    {
      "cell_type": "code",
      "execution_count": null,
      "metadata": {
        "id": "_oEf6YSXUj4T"
      },
      "outputs": [],
      "source": [
        "from sklearn.metrics import classification_report\n",
        "report = classification_report(y_test, y_pred, output_dict=True)\n",
        "metrics = {k: v for k, v in report.items() if k in ['accuracy', 'precision', 'recall', 'f1-score']}"
      ]
    },
    {
      "cell_type": "markdown",
      "metadata": {},
      "source": [
        "### 7. Streamlit Application for Interactive Reporting\n",
        "\n",
        "This section sets up a simple Streamlit web application that allows users to interactively generate traffic analysis reports by entering queries.\n",
        "- It first installs the `streamlit` library.\n",
        "- Then, it loads the necessary data and the pre-trained model, and initializes the LLM components (text splitter, embeddings, vector store) similar to the report generation section.\n",
        "- A Streamlit UI is created with a title, a text input field for the query, and a button to trigger report generation.\n",
        "- When the \"Generate Report\" button is clicked, the `generate_report` function is called with the user's query, and the resulting report is displayed in a text area.\n",
        "- Finally, the model performance metrics are displayed in a JSON format for easy viewing.\n",
        "\n",
        "**Note on running Streamlit in Colab**: When running this cell in Google Colab, you will see a warning about `ScriptRunContext`. To properly view the Streamlit app, you usually need to run it from the terminal using `streamlit run your_script_name.py`. In Colab, you can use the provided command in the cell's output to get a public URL for your app."
      ]
    },
    {
      "cell_type": "code",
      "execution_count": null,
      "metadata": {
        "colab": {
          "base_uri": "https://localhost:8080/"
        },
        "collapsed": true,
        "id": "hKeWfFxInSh0",
        "outputId": "c9135f65-ce8a-4cb2-cd76-caed67465462"
      },
      "outputs": [],
      "source": [
        "pip install streamlit"
      ]
    },
    {
      "cell_type": "code",
      "execution_count": 9,
      "metadata": {
        "colab": {
          "base_uri": "https://localhost:8080/"
        },
        "id": "nfrenSzWVKO7",
        "outputId": "65a67d33-13de-43ae-9581-10c02a1b8897"
      },
      "outputs": [
        {
          "name": "stderr",
          "output_type": "stream",
          "text": [
            "2025-06-11 19:33:09.779 \n",
            "  \u001b[33m\u001b[1mWarning:\u001b[0m to view this Streamlit app on a browser, run it with the following\n",
            "  command:\n",
            "\n",
            "    streamlit run c:\\Users\\HP\\anaconda3\\Lib\\site-packages\\ipykernel_launcher.py [ARGUMENTS]\n",
            "2025-06-11 19:33:09.780 Session state does not function when running a script without `streamlit run`\n"
          ]
        },
        {
          "data": {
            "text/plain": [
              "DeltaGenerator()"
            ]
          },
          "execution_count": 9,
          "metadata": {},
          "output_type": "execute_result"
        }
      ],
      "source": [
        "# Load data and model\n",
        "df = pd.read_csv('combined_traffic_data.csv')\n",
        "# Changed 'traffic_model_gb.pkl' to 'xgboost_model.pkl' to match the saved filename\n",
        "model = joblib.load('xgboost_model.pkl')\n",
        "metrics = {\"Accuracy\": 1.0, \"Precision\": 0.98, \"Recall\": 0.95, \"F1-Score\": 0.98}  # Replace with actual\n",
        "metrics_text = \"\\nModel Performance Metrics:\\n\" + \"\\n\".join([f\"{k}: {v}\" for k, v in metrics.items()])\n",
        "text_data = df.to_string(index=False) + \"\\n\\n\" + metrics_text\n",
        "\n",
        "# Split and create vector store\n",
        "text_splitter = RecursiveCharacterTextSplitter(chunk_size=1000, chunk_overlap=200)\n",
        "chunks = text_splitter.split_text(text_data)\n",
        "# Note: OpenAIEmbeddings() requires the OPENAI_API_KEY to be available\n",
        "# Ensure openai_api_key is accessible in this cell or passed explicitly\n",
        "# Pass the api key explicitly to OpenAIEmbeddings\n",
        "embeddings = OpenAIEmbeddings(openai_api_key=openai_api_key) # Explicitly pass the API key\n",
        "vector_store = FAISS.from_texts(chunks, embeddings)\n",
        "\n",
        "# Report generation function\n",
        "def generate_report(query):\n",
        "    docs = vector_store.similarity_search(query, k=3)\n",
        "    context = \"\\n\".join([doc.page_content for doc in docs])\n",
        "    prompt = f\"\"\"\n",
        "    You are a traffic analysis expert. Use the following context to generate a detailed report.\n",
        "    Context: {context}\n",
        "    Query: {query}\n",
        "    Provide a structured report with sections: Summary, Analysis, Recommendations, and thank the user!\n",
        "    \"\"\"\n",
        "    # Note: The 'openai_client' variable is not defined in this cell.\n",
        "    # You should use the 'openai' variable initialized previously or re-initialize.\n",
        "    # Assuming you want to use the 'openai' client from before:\n",
        "    response = openai.chat.completions.create(model=\"gpt-4o\", messages=[{\"role\": \"user\", \"content\": prompt}])\n",
        "    return response.choices[0].message.content\n",
        "\n",
        "# Streamlit UI\n",
        "import streamlit as st\n",
        "\n",
        "st.title(\"Traffic Analysis Report Generator\")\n",
        "query = st.text_input(\"Enter your query (e.g., 'Traffic conditions and safety insights')\")\n",
        "if st.button(\"Generate Report\"):\n",
        "    if query:\n",
        "        # Ensure 'openai' client is initialized and accessible here\n",
        "        if 'openai' not in globals():\n",
        "             from openai import OpenAI\n",
        "             openai_api_key = userdata.get('OPENAI_API_KEY') # Make sure userdata is imported and works in this context\n",
        "             openai = OpenAI(api_key=openai_api_key)\n",
        "\n",
        "        report = generate_report(query)\n",
        "        st.text_area(\"Report\", report, height=300)\n",
        "    else:\n",
        "        st.write(\"Please enter a query!\")\n",
        "\n",
        "# Display metrics\n",
        "st.subheader(\"Model Performance\")\n",
        "st.json(metrics)"
      ]
    },
    {
      "cell_type": "code",
      "execution_count": null,
      "metadata": {
        "colab": {
          "base_uri": "https://localhost:8080/"
        },
        "id": "q_uhoMsmWFV_",
        "outputId": "83683904-8cfa-4d5e-ebba-caa1059963ee"
      },
      "outputs": [
        {
          "name": "stdout",
          "output_type": "stream",
          "text": [
            "\n",
            "Collecting usage statistics. To deactivate, set browser.gatherUsageStats to false.\n",
            "\u001b[0m\n",
            "\u001b[0m\n",
            "\u001b[34m\u001b[1m  You can now view your Streamlit app in your browser.\u001b[0m\n",
            "\u001b[0m\n",
            "\u001b[34m  Local URL: \u001b[0m\u001b[1mhttp://localhost:8501\u001b[0m\n",
            "\u001b[34m  Network URL: \u001b[0m\u001b[1mhttp://172.28.0.12:8501\u001b[0m\n",
            "\u001b[34m  External URL: \u001b[0m\u001b[1mhttp://34.48.124.55:8501\u001b[0m\n",
            "\u001b[0m\n",
            "\u001b[34m  Stopping...\u001b[0m\n",
            "\u001b[34m  Stopping...\u001b[0m\n"
          ]
        }
      ],
      "source": [
        "!streamlit run /usr/local/lib/python3.11/dist-packages/colab_kernel_launcher.py [ARGUMENTS]"
      ]
    }
  ],
  "metadata": {
    "colab": {
      "provenance": []
    },
    "kernelspec": {
      "display_name": "base",
      "language": "python",
      "name": "python3"
    },
    "language_info": {
      "codemirror_mode": {
        "name": "ipython",
        "version": 3
      },
      "file_extension": ".py",
      "mimetype": "text/x-python",
      "name": "python",
      "nbconvert_exporter": "python",
      "pygments_lexer": "ipython3",
      "version": "3.11.7"
    }
  },
  "nbformat": 4,
  "nbformat_minor": 0
}
